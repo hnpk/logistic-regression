{
 "cells": [
  {
   "cell_type": "markdown",
   "metadata": {},
   "source": [
    "<h2 align=\"center\"> Logistic Regression </h2>"
   ]
  },
  {
   "cell_type": "markdown",
   "metadata": {},
   "source": [
    " "
   ]
  },
  {
   "cell_type": "markdown",
   "metadata": {},
   "source": [
    "### Loading the Data and Libraries\n",
    "---"
   ]
  },
  {
   "cell_type": "code",
   "execution_count": 54,
   "metadata": {},
   "outputs": [],
   "source": [
    "import numpy as np\n",
    "import matplotlib.pyplot as plt\n",
    "import seaborn as sns\n",
    "import pandas as pd\n",
    "plt.style.use(\"ggplot\")\n",
    "%matplotlib inline"
   ]
  },
  {
   "cell_type": "code",
   "execution_count": 55,
   "metadata": {},
   "outputs": [],
   "source": [
    "from pylab import rcParams\n",
    "rcParams['figure.figsize'] = 12, 8"
   ]
  },
  {
   "cell_type": "code",
   "execution_count": 56,
   "metadata": {},
   "outputs": [
    {
     "data": {
      "text/html": [
       "<div>\n",
       "<style scoped>\n",
       "    .dataframe tbody tr th:only-of-type {\n",
       "        vertical-align: middle;\n",
       "    }\n",
       "\n",
       "    .dataframe tbody tr th {\n",
       "        vertical-align: top;\n",
       "    }\n",
       "\n",
       "    .dataframe thead th {\n",
       "        text-align: right;\n",
       "    }\n",
       "</style>\n",
       "<table border=\"1\" class=\"dataframe\">\n",
       "  <thead>\n",
       "    <tr style=\"text-align: right;\">\n",
       "      <th></th>\n",
       "      <th>DMV_Test_1</th>\n",
       "      <th>DMV_Test_2</th>\n",
       "      <th>Results</th>\n",
       "    </tr>\n",
       "  </thead>\n",
       "  <tbody>\n",
       "    <tr>\n",
       "      <th>0</th>\n",
       "      <td>34.623660</td>\n",
       "      <td>78.024693</td>\n",
       "      <td>0</td>\n",
       "    </tr>\n",
       "    <tr>\n",
       "      <th>1</th>\n",
       "      <td>30.286711</td>\n",
       "      <td>43.894998</td>\n",
       "      <td>0</td>\n",
       "    </tr>\n",
       "    <tr>\n",
       "      <th>2</th>\n",
       "      <td>35.847409</td>\n",
       "      <td>72.902198</td>\n",
       "      <td>0</td>\n",
       "    </tr>\n",
       "    <tr>\n",
       "      <th>3</th>\n",
       "      <td>60.182599</td>\n",
       "      <td>86.308552</td>\n",
       "      <td>1</td>\n",
       "    </tr>\n",
       "    <tr>\n",
       "      <th>4</th>\n",
       "      <td>79.032736</td>\n",
       "      <td>75.344376</td>\n",
       "      <td>1</td>\n",
       "    </tr>\n",
       "  </tbody>\n",
       "</table>\n",
       "</div>"
      ],
      "text/plain": [
       "   DMV_Test_1  DMV_Test_2  Results\n",
       "0   34.623660   78.024693        0\n",
       "1   30.286711   43.894998        0\n",
       "2   35.847409   72.902198        0\n",
       "3   60.182599   86.308552        1\n",
       "4   79.032736   75.344376        1"
      ]
     },
     "execution_count": 56,
     "metadata": {},
     "output_type": "execute_result"
    }
   ],
   "source": [
    "data = pd.read_csv('DMV_Written_Tests.csv')\n",
    "data.head()"
   ]
  },
  {
   "cell_type": "code",
   "execution_count": 57,
   "metadata": {},
   "outputs": [
    {
     "name": "stdout",
     "output_type": "stream",
     "text": [
      "<class 'pandas.core.frame.DataFrame'>\n",
      "RangeIndex: 100 entries, 0 to 99\n",
      "Data columns (total 3 columns):\n",
      "DMV_Test_1    100 non-null float64\n",
      "DMV_Test_2    100 non-null float64\n",
      "Results       100 non-null int64\n",
      "dtypes: float64(2), int64(1)\n",
      "memory usage: 2.4 KB\n"
     ]
    }
   ],
   "source": [
    "data.info()"
   ]
  },
  {
   "cell_type": "code",
   "execution_count": 58,
   "metadata": {},
   "outputs": [],
   "source": [
    "scores = data[['DMV_Test_1', 'DMV_Test_2']].values\n",
    "results = data['Results'].values"
   ]
  },
  {
   "cell_type": "markdown",
   "metadata": {},
   "source": [
    "### Visualizing the Data\n",
    "---"
   ]
  },
  {
   "cell_type": "code",
   "execution_count": 59,
   "metadata": {},
   "outputs": [
    {
     "data": {
      "image/png": "[encoded data removed]",
      "text/plain": [
       "<Figure size 864x576 with 1 Axes>"
      ]
     },
     "metadata": {
      "needs_background": "light"
     },
     "output_type": "display_data"
    }
   ],
   "source": [
    "passed = (results == 1).reshape(100, 1)\n",
    "failed = (results == 0).reshape(100, 1)\n",
    "\n",
    "ax = sns.scatterplot(x = scores[passed[:, 0], 0],\n",
    "                    y = scores[passed[:, 0], 1],\n",
    "                    marker = \"^\",\n",
    "                    color = 'green',\n",
    "                    s = 60)\n",
    "ax = sns.scatterplot(x = scores[failed[:, 0], 0],\n",
    "                    y = scores[failed[:, 0], 1],\n",
    "                marker = \"x\",\n",
    "                color = 'red',\n",
    "                s = 60)\n",
    "ax.set(xlabel = \"DMV Wrtten Test 1 Scores\", ylabel = \"DMV Written Test 2 Scores\")\n",
    "ax.legend(['Passed', 'Failed'])\n",
    "plt.show();"
   ]
  },
  {
   "cell_type": "markdown",
   "metadata": {},
   "source": [
    "### Defining the Logistic Sigmoid Function $\\sigma(z)$\n",
    "---\n",
    "\n",
    "$$ \\sigma(z) = \\frac{1}{1+e^{-z}}$$"
   ]
  },
  {
   "cell_type": "code",
   "execution_count": 60,
   "metadata": {},
   "outputs": [],
   "source": [
    "def logistic_function(x):\n",
    "    return 1 / (1 + np.exp(-x))"
   ]
  },
  {
   "cell_type": "code",
   "execution_count": 61,
   "metadata": {},
   "outputs": [
    {
     "data": {
      "text/plain": [
       "0.5"
      ]
     },
     "execution_count": 61,
     "metadata": {},
     "output_type": "execute_result"
    }
   ],
   "source": [
    "logistic_function(0)"
   ]
  },
  {
   "cell_type": "markdown",
   "metadata": {},
   "source": [
    "### Computing the Cost Function $J(\\theta)$ and Gradient\n",
    "---"
   ]
  },
  {
   "cell_type": "markdown",
   "metadata": {},
   "source": [
    "The objective of logistic regression is to minimize the cost function\n",
    "\n",
    "$$J(\\theta) = -\\frac{1}{m} \\sum_{i=1}^{m} [ y^{(i)}log(h_{\\theta}(x^{(i)})) + (1 - y^{(i)})log(1 - (h_{\\theta}(x^{(i)}))]$$\n",
    "\n",
    "where the gradient of the cost function is given by\n",
    "\n",
    "$$ \\frac{\\partial J(\\theta)}{\\partial \\theta_j} = \\frac{1}{m} \\sum_{i=1}^{m} (h_{\\theta}(x^{(i)}) - y^{(i)})x_j^{(i)}$$"
   ]
  },
  {
   "cell_type": "code",
   "execution_count": 62,
   "metadata": {},
   "outputs": [],
   "source": [
    "def compute_cost(theta, x, y):\n",
    "    m = len(y)\n",
    "    y_pred = logistic_function(np.dot(x, theta))\n",
    "    error = (y * np.log(y_pred)) + (1 - y) * np.log(1 - y_pred)\n",
    "    cost = - 1 / m * sum(error)\n",
    "    gradient = 1 / m * np.dot(x.transpose(), (y_pred - y))\n",
    "    return cost[0], gradient"
   ]
  },
  {
   "cell_type": "markdown",
   "metadata": {},
   "source": [
    " "
   ]
  },
  {
   "cell_type": "markdown",
   "metadata": {},
   "source": [
    "### Cost and Gradient at Initialization\n",
    "---"
   ]
  },
  {
   "cell_type": "code",
   "execution_count": 63,
   "metadata": {},
   "outputs": [
    {
     "name": "stdout",
     "output_type": "stream",
     "text": [
      "Cost at initialization 0.693147180559946\n",
      "Gradients at initialization [[-0.1       ]\n",
      " [-0.28122914]\n",
      " [-0.25098615]]\n"
     ]
    }
   ],
   "source": [
    "mean_scores = np.mean(scores, axis = 0)\n",
    "std_scores = np.std(scores, axis = 0)\n",
    "scores = (scores - mean_scores) / std_scores\n",
    "\n",
    "rows = scores.shape[0]\n",
    "cols = scores.shape[1]\n",
    "\n",
    "X = np.append(np.ones((rows, 1)), scores, axis=1)\n",
    "y = results.reshape(rows, 1)\n",
    "              \n",
    "theta_init = np.zeros((cols + 1, 1))\n",
    "cost, gradient = compute_cost(theta_init, X, y)\n",
    "              \n",
    "print(\"Cost at initialization\", cost)\n",
    "print(\"Gradients at initialization\", gradient)"
   ]
  },
  {
   "cell_type": "markdown",
   "metadata": {},
   "source": [
    " "
   ]
  },
  {
   "cell_type": "markdown",
   "metadata": {},
   "source": [
    "### Gradient Descent\n",
    "---"
   ]
  },
  {
   "cell_type": "markdown",
   "metadata": {},
   "source": [
    "Minimizing the cost function $J(\\theta)$ by updating the below equation and repeat until convergence\n",
    "$\\theta_j := \\theta_j - \\alpha \\frac{\\partial J(\\theta)}{\\partial \\theta_j}$ (simultaneously updating $\\theta_j$ for all $j$)"
   ]
  },
  {
   "cell_type": "code",
   "execution_count": 64,
   "metadata": {},
   "outputs": [],
   "source": [
    "def gradient_descent(x, y, theta, alpha, iterations):\n",
    "    costs = []\n",
    "    for i in range(iterations):\n",
    "        cost, gradient = compute_cost(theta, x, y)\n",
    "        theta -= (alpha * gradient)\n",
    "        costs.append(cost)\n",
    "    return theta, costs"
   ]
  },
  {
   "cell_type": "code",
   "execution_count": 65,
   "metadata": {},
   "outputs": [],
   "source": [
    "theta, costs = gradient_descent(X, y, theta_init, 1, 200)"
   ]
  },
  {
   "cell_type": "code",
   "execution_count": 67,
   "metadata": {},
   "outputs": [
    {
     "name": "stdout",
     "output_type": "stream",
     "text": [
      "Theta after running gradient descent:  [[1.50850586]\n",
      " [3.5468762 ]\n",
      " [3.29383709]]\n",
      "Resulting cost: 0.2048938203512014\n"
     ]
    }
   ],
   "source": [
    "print(\"Theta after running gradient descent: \", theta)\n",
    "print(\"Resulting cost:\", costs[-1])"
   ]
  },
  {
   "cell_type": "markdown",
   "metadata": {},
   "source": [
    " "
   ]
  },
  {
   "cell_type": "markdown",
   "metadata": {},
   "source": [
    "### Plotting the Convergence of $J(\\theta)$\n",
    "---"
   ]
  },
  {
   "cell_type": "markdown",
   "metadata": {},
   "source": [
    "Plot $J(\\theta)$ against the number of iterations of gradient descent:"
   ]
  },
  {
   "cell_type": "code",
   "execution_count": 68,
   "metadata": {},
   "outputs": [
    {
     "data": {
      "image/png": "[encoded data removed]",
      "text/plain": [
       "<Figure size 864x576 with 1 Axes>"
      ]
     },
     "metadata": {
      "needs_background": "light"
     },
     "output_type": "display_data"
    }
   ],
   "source": [
    "plt.plot(costs)\n",
    "plt.xlabel(\"Iterations\")\n",
    "plt.ylabel(\"$J(\\Theta)$\")\n",
    "plt.title(\"Values of Cost Function over Iterations of Gradient Descent\");"
   ]
  },
  {
   "cell_type": "markdown",
   "metadata": {},
   "source": [
    " "
   ]
  },
  {
   "cell_type": "markdown",
   "metadata": {},
   "source": [
    "### Plotting the decision boundary\n",
    "---"
   ]
  },
  {
   "cell_type": "markdown",
   "metadata": {},
   "source": [
    "$h_\\theta(x) = \\sigma(z)$, where $\\sigma$ is the logistic sigmoid function and $z = \\theta^Tx$\n",
    "\n",
    "When $h_\\theta(x) \\geq 0.5$ the model predicts class \"1\":\n",
    "\n",
    "$\\implies \\sigma(\\theta^Tx) \\geq 0.5$\n",
    "\n",
    "$\\implies \\theta^Tx \\geq 0$ predict class \"1\" \n",
    "\n",
    "Hence, $\\theta_1 + \\theta_2x_2 + \\theta_3x_3 = 0$ is the equation for the decision boundary, giving us \n",
    "\n",
    "$ x_3 = \\frac{-(\\theta_1+\\theta_2x_2)}{\\theta_3}$"
   ]
  },
  {
   "cell_type": "code",
   "execution_count": 69,
   "metadata": {},
   "outputs": [
    {
     "data": {
      "image/png": "[encoded data removed]",
      "text/plain": [
       "<Figure size 864x576 with 1 Axes>"
      ]
     },
     "metadata": {
      "needs_background": "light"
     },
     "output_type": "display_data"
    }
   ],
   "source": [
    "ax = sns.scatterplot(x = X[passed[:, 0], 1],\n",
    "                    y = X[passed[:, 0], 2],\n",
    "                    marker = \"^\",\n",
    "                    color = 'green',\n",
    "                    s = 60)\n",
    "ax = sns.scatterplot(x = X[failed[:, 0], 1],\n",
    "                    y = X[failed[:, 0], 2],\n",
    "                marker = \"x\",\n",
    "                color = 'red',\n",
    "                s = 60)\n",
    "ax.legend(['Passed', 'Failed'])\n",
    "ax.set(xlabel = \"DMV Written Test 1 Scores\", ylabel=\"DMV Written Test 2 Scores\")\n",
    "\n",
    "x_boundary = np.array([np.min(X[:, 1]), np.max(X[:, 1])])\n",
    "y_boundary = -(theta[0] + theta[1] * x_boundary) / theta[2]\n",
    "\n",
    "sns.lineplot(x = x_boundary, y = y_boundary, color = \"blue\")\n",
    "plt.show();"
   ]
  },
  {
   "cell_type": "markdown",
   "metadata": {},
   "source": [
    " "
   ]
  },
  {
   "cell_type": "markdown",
   "metadata": {},
   "source": [
    "### Predictions using the optimized $\\theta$ values\n",
    "---"
   ]
  },
  {
   "cell_type": "markdown",
   "metadata": {},
   "source": [
    "$h_\\theta(x) = x\\theta$"
   ]
  },
  {
   "cell_type": "code",
   "execution_count": 70,
   "metadata": {},
   "outputs": [],
   "source": [
    "def predict(theta, x):\n",
    "        results = x.dot(theta)\n",
    "        return results > 0"
   ]
  },
  {
   "cell_type": "code",
   "execution_count": 71,
   "metadata": {},
   "outputs": [
    {
     "name": "stdout",
     "output_type": "stream",
     "text": [
      "Training Accuracy: 89 %\n"
     ]
    }
   ],
   "source": [
    "p = predict(theta, X)\n",
    "print(\"Training Accuracy:\", sum(p==y)[0],\"%\")"
   ]
  },
  {
   "cell_type": "code",
   "execution_count": 73,
   "metadata": {},
   "outputs": [
    {
     "name": "stdout",
     "output_type": "stream",
     "text": [
      "A person who scores 50 and 79 on their DMV written tests have a 0.71 probability of passing.\n"
     ]
    }
   ],
   "source": [
    "test = np.array([50, 79])\n",
    "test = (test - mean_scores) / std_scores\n",
    "test = np.append(np.ones(1), test)\n",
    "probability = logistic_function(test.dot(theta))\n",
    "print(\"A person who scores 50 and 79 on their DMV written tests have a\",\n",
    "      np.round(probability[0], 2), \"probability of passing.\")\n"
   ]
  }
 ],
 "metadata": {
  "kernelspec": {
   "display_name": "Python 3",
   "language": "python",
   "name": "python3"
  },
  "language_info": {
   "codemirror_mode": {
    "name": "ipython",
    "version": 3
   },
   "file_extension": ".py",
   "mimetype": "text/x-python",
   "name": "python",
   "nbconvert_exporter": "python",
   "pygments_lexer": "ipython3",
   "version": "3.8.3"
  }
 },
 "nbformat": 4,
 "nbformat_minor": 2
}
